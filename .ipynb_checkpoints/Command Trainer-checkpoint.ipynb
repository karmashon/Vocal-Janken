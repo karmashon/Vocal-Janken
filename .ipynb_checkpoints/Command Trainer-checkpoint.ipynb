{
 "cells": [
  {
   "cell_type": "code",
   "execution_count": 4,
   "id": "1337e457-0de8-45f8-92e5-2efde6bf0375",
   "metadata": {},
   "outputs": [],
   "source": [
    "import numpy as np\n",
    "import tensorflow as tf\n",
    "from tensorflow.keras import layers, models\n",
    "import matplotlib.pyplot as plt\n",
    "import os"
   ]
  },
  {
   "cell_type": "code",
   "execution_count": 6,
   "id": "147ac1df-b3b9-4041-b88d-51e98b0fc465",
   "metadata": {},
   "outputs": [],
   "source": [
    "datasetDir = os.path.join(os.getcwd(),\"Dataset\",\"mini_speech_commands\")\n",
    "if not os.path.exists(datasetDir):\n",
    "    tf.keras.utils.get_file(\n",
    "        fname=\"mini_speech_commands.zip\",\n",
    "        origin=\"http://storage.googleapis.com/download.tensorflow.org/data/mini_speech_commands.zip\",\n",
    "        extract=True,\n",
    "        cache_dir=\".\",\n",
    "        cache_subdir=\"Dataset\"\n",
    "    )"
   ]
  },
  {
   "cell_type": "code",
   "execution_count": 7,
   "id": "8b019f53-4213-4ea0-9713-2b90335f2c96",
   "metadata": {},
   "outputs": [
    {
     "name": "stdout",
     "output_type": "stream",
     "text": [
      "['go' 'left' 'no' 'right']\n"
     ]
    }
   ],
   "source": [
    "usedCommands = [\"left\",\"right\",\"go\",\"no\"]\n",
    "commandList = os.listdir(datasetDir)\n",
    "commandList = np.array([i for i in commandList if i in usedCommands])\n",
    "print(commandList)"
   ]
  },
  {
   "cell_type": "code",
   "execution_count": null,
   "id": "01c80537-0a4a-42f7-b503-80b00878ab93",
   "metadata": {},
   "outputs": [],
   "source": []
  }
 ],
 "metadata": {
  "kernelspec": {
   "display_name": "Python 3 (ipykernel)",
   "language": "python",
   "name": "python3"
  },
  "language_info": {
   "codemirror_mode": {
    "name": "ipython",
    "version": 3
   },
   "file_extension": ".py",
   "mimetype": "text/x-python",
   "name": "python",
   "nbconvert_exporter": "python",
   "pygments_lexer": "ipython3",
   "version": "3.11.4"
  }
 },
 "nbformat": 4,
 "nbformat_minor": 5
}
