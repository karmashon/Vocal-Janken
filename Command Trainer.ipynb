{
 "cells": [
  {
   "cell_type": "code",
   "execution_count": 2,
   "id": "1337e457-0de8-45f8-92e5-2efde6bf0375",
   "metadata": {},
   "outputs": [
    {
     "name": "stderr",
     "output_type": "stream",
     "text": [
      "2024-03-13 10:45:09.236414: I external/local_tsl/tsl/cuda/cudart_stub.cc:32] Could not find cuda drivers on your machine, GPU will not be used.\n",
      "2024-03-13 10:45:09.519957: I external/local_tsl/tsl/cuda/cudart_stub.cc:32] Could not find cuda drivers on your machine, GPU will not be used.\n",
      "2024-03-13 10:45:09.690561: I tensorflow/core/platform/cpu_feature_guard.cc:210] This TensorFlow binary is optimized to use available CPU instructions in performance-critical operations.\n",
      "To enable the following instructions: AVX2 FMA, in other operations, rebuild TensorFlow with the appropriate compiler flags.\n",
      "2024-03-13 10:45:10.899384: W tensorflow/compiler/tf2tensorrt/utils/py_utils.cc:38] TF-TRT Warning: Could not find TensorRT\n"
     ]
    }
   ],
   "source": [
    "import numpy as np\n",
    "import tensorflow as tf\n",
    "from tensorflow.keras import layers, models\n",
    "import matplotlib.pyplot as plt\n",
    "import os"
   ]
  },
  {
   "cell_type": "code",
   "execution_count": 3,
   "id": "147ac1df-b3b9-4041-b88d-51e98b0fc465",
   "metadata": {},
   "outputs": [],
   "source": [
    "datasetDir = os.path.join(os.getcwd(),\"Dataset\",\"mini_speech_commands\")\n",
    "if not os.path.exists(datasetDir):\n",
    "    tf.keras.utils.get_file(\n",
    "        fname=\"mini_speech_commands.zip\",\n",
    "        origin=\"http://storage.googleapis.com/download.tensorflow.org/data/mini_speech_commands.zip\",\n",
    "        extract=True,\n",
    "        cache_dir=\".\",\n",
    "        cache_subdir=\"Dataset\"\n",
    "    )"
   ]
  },
  {
   "cell_type": "code",
   "execution_count": 9,
   "id": "8b019f53-4213-4ea0-9713-2b90335f2c96",
   "metadata": {},
   "outputs": [
    {
     "name": "stdout",
     "output_type": "stream",
     "text": [
      "['right' 'left' 'go' 'no']\n"
     ]
    }
   ],
   "source": [
    "usedCommands = [\"left\",\"right\",\"go\",\"no\"]\n",
    "commandList = os.listdir(datasetDir)\n",
    "commandList = np.array([i for i in commandList if i in usedCommands])\n",
    "print(commandList)"
   ]
  },
  {
   "cell_type": "code",
   "execution_count": 10,
   "id": "01c80537-0a4a-42f7-b503-80b00878ab93",
   "metadata": {},
   "outputs": [
    {
     "name": "stdout",
     "output_type": "stream",
     "text": [
      "Found 4000 files belonging to 4 classes.\n",
      "Using 3000 files for training.\n",
      "Using 1000 files for validation.\n"
     ]
    }
   ],
   "source": [
    "trainSet, testSet = tf.keras.utils.audio_dataset_from_directory(\n",
    "    directory = datasetDir,\n",
    "    batch_size = 32,\n",
    "    validation_split = 0.25,\n",
    "    output_sequence_length = 16000,\n",
    "    subset = \"both\",\n",
    "    seed = 42,\n",
    "    class_names = list(commandList)\n",
    "    )"
   ]
  },
  {
   "cell_type": "code",
   "execution_count": 14,
   "id": "24ad2cc0",
   "metadata": {},
   "outputs": [],
   "source": [
    "valSet = testSet.shard(num_shards=2,index = 0)\n",
    "testSet = testSet.shard(num_shards=2,index = 1)"
   ]
  },
  {
   "cell_type": "code",
   "execution_count": null,
   "id": "222e51f8",
   "metadata": {},
   "outputs": [],
   "source": []
  }
 ],
 "metadata": {
  "kernelspec": {
   "display_name": "Python 3 (ipykernel)",
   "language": "python",
   "name": "python3"
  },
  "language_info": {
   "codemirror_mode": {
    "name": "ipython",
    "version": 3
   },
   "file_extension": ".py",
   "mimetype": "text/x-python",
   "name": "python",
   "nbconvert_exporter": "python",
   "pygments_lexer": "ipython3",
   "version": "3.10.13"
  }
 },
 "nbformat": 4,
 "nbformat_minor": 5
}
